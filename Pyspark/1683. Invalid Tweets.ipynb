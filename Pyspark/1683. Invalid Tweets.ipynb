{
 "cells": [
  {
   "cell_type": "code",
   "execution_count": 0,
   "metadata": {
    "application/vnd.databricks.v1+cell": {
     "cellMetadata": {
      "byteLimit": 2048000,
      "rowLimit": 10000
     },
     "inputWidgets": {},
     "nuid": "a8046a43-ae47-4855-9167-d993c3657f72",
     "showTitle": false,
     "title": ""
    }
   },
   "outputs": [
    {
     "output_type": "stream",
     "name": "stdout",
     "output_type": "stream",
     "text": [
      "+--------+--------------------+\n|tweet_id|             content|\n+--------+--------------------+\n|       1|      Vote for Biden|\n|       2|Let us make Ameri...|\n+--------+--------------------+\n\n"
     ]
    }
   ],
   "source": [
    "from pyspark.sql import SparkSession\n",
    "from pyspark.sql.types import *\n",
    "from pyspark.sql.functions import *\n",
    "\n",
    "\n",
    "# Create a SparkSession\n",
    "spark = SparkSession.builder.appName(\"TableToDataFrame\").getOrCreate()\n",
    "\n",
    "# Create sample data (mimicking your table)\n",
    "data = [\n",
    "    (1, \"Vote for Biden\"),\n",
    "    (2, \"Let us make America great again!\")\n",
    "]\n",
    "\n",
    "schema = StructType([\n",
    "    StructField(\"tweet_id\", IntegerType(), True),\n",
    "    StructField(\"content\", StringType(), True) \n",
    "])\n",
    "\n",
    "# Create the DataFrame\n",
    "df = spark.createDataFrame(data, schema)\n",
    "\n",
    "# Show the resulting PySpark DataFrame\n",
    "df.show()\n"
   ]
  },
  {
   "cell_type": "code",
   "execution_count": 0,
   "metadata": {
    "application/vnd.databricks.v1+cell": {
     "cellMetadata": {
      "byteLimit": 2048000,
      "rowLimit": 10000
     },
     "inputWidgets": {},
     "nuid": "f79d0aa5-5fbf-4b5f-ad87-9cde08a60f97",
     "showTitle": false,
     "title": ""
    }
   },
   "outputs": [
    {
     "output_type": "stream",
     "name": "stdout",
     "output_type": "stream",
     "text": [
      "+--------+\n|tweet_id|\n+--------+\n|       2|\n+--------+\n\n"
     ]
    }
   ],
   "source": [
    "df.withColumn('content', length(df.content)).filter(col('content')>15).select(df.tweet_id).show()"
   ]
  }
 ],
 "metadata": {
  "application/vnd.databricks.v1+notebook": {
   "dashboards": [],
   "language": "python",
   "notebookMetadata": {
    "pythonIndentUnit": 4
   },
   "notebookName": "1683. Invalid Tweets",
   "widgets": {}
  }
 },
 "nbformat": 4,
 "nbformat_minor": 0
}

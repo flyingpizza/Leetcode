{
 "cells": [
  {
   "cell_type": "code",
   "execution_count": 0,
   "metadata": {
    "application/vnd.databricks.v1+cell": {
     "cellMetadata": {
      "byteLimit": 2048000,
      "rowLimit": 10000
     },
     "inputWidgets": {},
     "nuid": "f6426f4f-b044-42a3-b105-f41add7bfdf4",
     "showTitle": false,
     "title": ""
    }
   },
   "outputs": [
    {
     "output_type": "stream",
     "name": "stdout",
     "output_type": "stream",
     "text": [
      "+-----------+---------+-------+----------+------------+\n|       name|continent|   area|population|         gdp|\n+-----------+---------+-------+----------+------------+\n|Afghanistan|     Asia| 652230|  25500100| 20343000000|\n|    Albania|   Europe|  28748|   2831741| 12960000000|\n|    Algeria|   Africa|2381741|  37100000|188681000000|\n|    Andorra|   Europe|    468|    781115|  3712000000|\n|     Angola|   Africa|1246700|  20609294|100990000000|\n+-----------+---------+-------+----------+------------+\n\n"
     ]
    }
   ],
   "source": [
    "from pyspark.sql import SparkSession\n",
    "from pyspark.sql.types import *\n",
    "spark = SparkSession.builder\\\n",
    "    .appName(\"CustomerData\")\\\n",
    "    .getOrCreate()\n",
    "\n",
    "schema = StructType([\n",
    "    StructField(\"name\", StringType(), True),\n",
    "    StructField(\"continent\", StringType(), True),\n",
    "    StructField(\"area\", IntegerType(), True),\n",
    "    StructField(\"population\", IntegerType(), True),\n",
    "    StructField(\"gdp\", LongType(), True)  # Use LongType for large GDP values\n",
    "])\n",
    "\n",
    "\n",
    "data = [\n",
    "    (\"Afghanistan\", \"Asia\", 652230, 25500100, 20343000000),\n",
    "    (\"Albania\", \"Europe\", 28748, 2831741, 12960000000),\n",
    "    (\"Algeria\", \"Africa\", 2381741, 37100000, 188681000000),\n",
    "    (\"Andorra\", \"Europe\", 468, 781115, 3712000000),\n",
    "    (\"Angola\", \"Africa\", 1246700, 20609294, 100990000000),\n",
    "]\n",
    "\n",
    "df = spark.createDataFrame(data, schema)\n",
    "df.show()\n"
   ]
  },
  {
   "cell_type": "code",
   "execution_count": 0,
   "metadata": {
    "application/vnd.databricks.v1+cell": {
     "cellMetadata": {
      "byteLimit": 2048000,
      "rowLimit": 10000
     },
     "inputWidgets": {},
     "nuid": "bf78992c-d815-4367-a382-fe86bbba5419",
     "showTitle": false,
     "title": ""
    }
   },
   "outputs": [
    {
     "output_type": "stream",
     "name": "stdout",
     "output_type": "stream",
     "text": [
      "+-----------+---------+-------+----------+------------+\n|       name|continent|   area|population|         gdp|\n+-----------+---------+-------+----------+------------+\n|Afghanistan|     Asia| 652230|  25500100| 20343000000|\n|    Algeria|   Africa|2381741|  37100000|188681000000|\n+-----------+---------+-------+----------+------------+\n\n"
     ]
    }
   ],
   "source": [
    "df.filter((df.population >= 25000000) | (df.area >= 3000000 )).show()"
   ]
  }
 ],
 "metadata": {
  "application/vnd.databricks.v1+notebook": {
   "dashboards": [],
   "language": "python",
   "notebookMetadata": {
    "pythonIndentUnit": 4
   },
   "notebookName": "595. Big Countries",
   "widgets": {}
  }
 },
 "nbformat": 4,
 "nbformat_minor": 0
}

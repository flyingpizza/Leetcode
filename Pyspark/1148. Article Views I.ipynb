{
 "cells": [
  {
   "cell_type": "code",
   "execution_count": 0,
   "metadata": {
    "application/vnd.databricks.v1+cell": {
     "cellMetadata": {
      "byteLimit": 2048000,
      "rowLimit": 10000
     },
     "inputWidgets": {},
     "nuid": "b42b822f-bd9c-488a-b645-4204aadb4549",
     "showTitle": false,
     "title": ""
    }
   },
   "outputs": [
    {
     "output_type": "stream",
     "name": "stdout",
     "output_type": "stream",
     "text": [
      "+----------+---------+---------+----------+\n|article_id|author_id|viewer_id| view_date|\n+----------+---------+---------+----------+\n|         1|        3|        5|2019-08-01|\n|         1|        3|        6|2019-08-02|\n|         2|        7|        7|2019-08-01|\n|         2|        7|        6|2019-08-02|\n|         4|        7|        1|2019-07-22|\n|         3|        4|        4|2019-07-21|\n|         3|        4|        4|2019-07-21|\n+----------+---------+---------+----------+\n\n"
     ]
    }
   ],
   "source": [
    "from pyspark.sql import SparkSession\n",
    "from pyspark.sql.types import *\n",
    "\n",
    "# Create a SparkSession\n",
    "spark = SparkSession.builder.appName(\"TableToDataFrame\").getOrCreate()\n",
    "\n",
    "# Create sample data (mimicking your table)\n",
    "data = [\n",
    "    (1, 3, 5, \"2019-08-01\"),\n",
    "    (1, 3, 6, \"2019-08-02\"),\n",
    "    (2, 7, 7, \"2019-08-01\"),\n",
    "    (2, 7, 6, \"2019-08-02\"),\n",
    "    (4, 7, 1, \"2019-07-22\"),\n",
    "    (3, 4, 4, \"2019-07-21\"),\n",
    "    (3, 4, 4, \"2019-07-21\") \n",
    "]\n",
    "\n",
    "# Define the schema \n",
    "schema = StructType([\n",
    "    StructField(\"article_id\", IntegerType(), True),\n",
    "    StructField(\"author_id\", IntegerType(), True),\n",
    "    StructField(\"viewer_id\", IntegerType(), True),\n",
    "    StructField(\"view_date\", StringType(), True) \n",
    "])\n",
    "\n",
    "# Create the DataFrame\n",
    "df = spark.createDataFrame(data, schema)\n",
    "\n",
    "# Show the resulting PySpark DataFrame\n",
    "df.show()\n"
   ]
  },
  {
   "cell_type": "code",
   "execution_count": 0,
   "metadata": {
    "application/vnd.databricks.v1+cell": {
     "cellMetadata": {
      "byteLimit": 2048000,
      "rowLimit": 10000
     },
     "inputWidgets": {},
     "nuid": "74db17c4-344a-40a5-94ac-4371ae368685",
     "showTitle": false,
     "title": ""
    }
   },
   "outputs": [
    {
     "output_type": "stream",
     "name": "stdout",
     "output_type": "stream",
     "text": [
      "+---------+\n|author_id|\n+---------+\n|        7|\n|        4|\n+---------+\n\n"
     ]
    }
   ],
   "source": [
    "df.filter(df.author_id == df.viewer_id).distinct().select(df.author_id).show()"
   ]
  }
 ],
 "metadata": {
  "application/vnd.databricks.v1+notebook": {
   "dashboards": [],
   "language": "python",
   "notebookMetadata": {
    "pythonIndentUnit": 4
   },
   "notebookName": "1148. Article Views I",
   "widgets": {}
  }
 },
 "nbformat": 4,
 "nbformat_minor": 0
}
